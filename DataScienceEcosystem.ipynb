{
 "cells": [
  {
   "cell_type": "markdown",
   "id": "857c7196",
   "metadata": {},
   "source": [
    "# Data Science Tools and Ecosystem"
   ]
  },
  {
   "cell_type": "markdown",
   "id": "619093f6",
   "metadata": {},
   "source": [
    "In this notebook, Data Science Tools and Ecosystems are summarized."
   ]
  },
  {
   "cell_type": "markdown",
   "id": "394597a7",
   "metadata": {},
   "source": [
    "__Objectives:__\n",
    "+ Polular Languages of data science\n",
    "+ Common Libraries of Data Science\n",
    "+ Use of Heddings\n",
    "+ Creating lists\n",
    "+ Evaluating Arithmetic expressions in Python"
   ]
  },
  {
   "cell_type": "markdown",
   "id": "a0211777",
   "metadata": {},
   "source": [
    "Some of the popular languages that Data Scientists use are:\n",
    " 1) Python\n",
    " 2) R\n",
    " 3) SQL\n",
    " 4) Java\n",
    " 5) c++"
   ]
  },
  {
   "cell_type": "markdown",
   "id": "5301a9b3",
   "metadata": {},
   "source": [
    "Some of the commonly used libraries by Data Scientists include:\n",
    " 1) Pandas\n",
    " 2) Plotly\n",
    " 3) ggplot\n",
    " "
   ]
  },
  {
   "cell_type": "markdown",
   "id": "5c73ede7",
   "metadata": {},
   "source": [
    "| Data Science Tools|\n",
    "|-------------------|\n",
    "|Jupyter Notebooks|\n",
    "|R Studio|\n",
    "|Git Hub|"
   ]
  },
  {
   "cell_type": "markdown",
   "id": "d0ab5ed2",
   "metadata": {},
   "source": [
    "### Below are a few examples of evaluating arithmetic expressions in Python."
   ]
  },
  {
   "cell_type": "code",
   "execution_count": 1,
   "id": "ba2ae04c",
   "metadata": {},
   "outputs": [
    {
     "data": {
      "text/plain": [
       "17"
      ]
     },
     "execution_count": 1,
     "metadata": {},
     "output_type": "execute_result"
    }
   ],
   "source": [
    "(3*4)+5"
   ]
  },
  {
   "cell_type": "code",
   "execution_count": 7,
   "id": "3dd6be49",
   "metadata": {},
   "outputs": [
    {
     "name": "stdout",
     "output_type": "stream",
     "text": [
      "3.3333333333333335\n"
     ]
    }
   ],
   "source": [
    "#Declaring the Variable \"Minutes\" as 200, Then we are creating an equation of \"Minutes\" devided by 60 to create our new\n",
    "#variable of \"hours\" then we print our solution\n",
    "Minutes=200\n",
    "hours=(Minutes/60)\n",
    "\n",
    "\n",
    "print(hours)"
   ]
  },
  {
   "cell_type": "markdown",
   "id": "6325a77b",
   "metadata": {},
   "source": [
    "## Author\n",
    "Reagan Jett"
   ]
  },
  {
   "cell_type": "code",
   "execution_count": null,
   "id": "fdb2926a",
   "metadata": {},
   "outputs": [],
   "source": []
  }
 ],
 "metadata": {
  "kernelspec": {
   "display_name": "Python 3 (ipykernel)",
   "language": "python",
   "name": "python3"
  },
  "language_info": {
   "codemirror_mode": {
    "name": "ipython",
    "version": 3
   },
   "file_extension": ".py",
   "mimetype": "text/x-python",
   "name": "python",
   "nbconvert_exporter": "python",
   "pygments_lexer": "ipython3",
   "version": "3.10.9"
  }
 },
 "nbformat": 4,
 "nbformat_minor": 5
}
